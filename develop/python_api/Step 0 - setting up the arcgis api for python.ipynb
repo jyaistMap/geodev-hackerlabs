{
 "cells": [
  {
   "cell_type": "markdown",
   "metadata": {},
   "source": [
    "# Introduction:\n",
    "\n",
    "There are numerous options for installing the ArcGIS API for Python. Refer to the ArcGIS Developers Website [Get Started documentation](https://developers.arcgis.com/python/guide/install-and-set-up/) to find out more on each option. GeoDev HackerLabs will use the [Anaconda Distribution](https://docs.continuum.io) as its method of install and instruction. \n",
    "\n",
    "[Continuum Analystics' Anaconda](https://www.continuum.io/anaconda-overview) is a comprehensive Python (and [R](https://www.r-project.org/)) package management system comprising more than 100 packages plus mechanisms for installing hundreds of open source packages accessed from various repositories called Channels. Channels may be a default set of cloud locations, such as Anaconda Cloud, or private repositories created by individuals or organizations.\n",
    "\n",
    "## Install Anaconda\n",
    "\n",
    "Navigate to the [Anaconda Download page](https://www.continuum.io/downloads) and proceed with installation of the appropriate software for your Operating System. \n",
    "\n",
    "Once installed, interaction with the Anaconda installation primarily occurs through its command-line tool called *conda*. Conda manages packages and dependencies so they don't interfere with each other through a mechanism called an environment, which is a folder or directory with a specific collection of packages and their dependencies. Core python and other default packages are installed into the default environment, named root. You can choose to keep this core environment isolated and untouched, or install additional packages into the environment before creating environments of your own. Refer to the [core conda documentation](https://conda.io/docs/intro.html) for instructions on managing environments.\n",
    "\n",
    "## Create an environment with this command:\n",
    "```bash\n",
    "conda create --name gis-enviro\n",
    "```\n",
    "Name the environment how you want.\n",
    "\n",
    "## Install the ArcGIS API for Python\n",
    "\n",
    "Esri distributes the ArcGIS Python API in a conda package called arcgis accessible at Esri's channel named esri. Install the arcgis package with the following command. Additional packages, including 'jupyter' (mentioned below), get installed with the arcgis package. \n",
    "\n",
    "```bash\n",
    "conda install --name gis-enviro -c esri arcgis\n",
    "```\n",
    "\n",
    "**NOTE:** if you do not enter an environment name, the package installs into the root environment.\n",
    "\n",
    "## Activate the environment to access it. \n",
    "\n",
    "See topic at [Changing Environments](https://conda.io/docs/using/envs.html#change-environments-activate-deactivate) for specific commands based on your OS.\n",
    "\n",
    "In Mac OS X:\n",
    "```\n",
    "source activate gis-enviro \n",
    "```\n",
    "\n",
    "The ArcGIS API for Python integrates with the Jupyter Notebook. See [Jupyter Documentation](https://jupyter.org) for more about the Jupyter suite of software and tools.  \n",
    "\n",
    "## Start the Jupyter Notebook \n",
    "Navigate to the directory where you want to create notebooks (or where notebooks already exist).\n",
    "\n",
    "```\n",
    "jupyter notebook\n",
    "```\n",
    "If installed correctly, you'll see messages indicating that a web server has started. Your default web browser will launch from  your current directory.\n",
    "\n",
    "Full documentation including samples and an API Reference located at https://developers.arcgis.com/python.\n",
    "\n"
   ]
  }
 ],
 "metadata": {
  "anaconda-cloud": {},
  "kernelspec": {
   "display_name": "Python [conda env:arcgis-pyapi]",
   "language": "python",
   "name": "conda-env-arcgis-pyapi-py"
  },
  "language_info": {
   "codemirror_mode": {
    "name": "ipython",
    "version": 3
   },
   "file_extension": ".py",
   "mimetype": "text/x-python",
   "name": "python",
   "nbconvert_exporter": "python",
   "pygments_lexer": "ipython3",
   "version": "3.5.3"
  }
 },
 "nbformat": 4,
 "nbformat_minor": 2
}
